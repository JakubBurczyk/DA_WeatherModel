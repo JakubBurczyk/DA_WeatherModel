{
 "cells": [
  {
   "cell_type": "code",
   "execution_count": 23,
   "metadata": {},
   "outputs": [],
   "source": [
    "from __future__ import annotations\n",
    "import pandas as pd\n",
    "import os\n",
    "import matplotlib.pyplot as plt\n",
    "import numpy as np\n",
    "from typing import List"
   ]
  },
  {
   "cell_type": "code",
   "execution_count": 24,
   "metadata": {},
   "outputs": [],
   "source": [
    "df = pd.read_csv(\"tidy_data.csv\")"
   ]
  },
  {
   "cell_type": "markdown",
   "metadata": {},
   "source": [
    "##### Dependence of water height on rainfall and temperature"
   ]
  },
  {
   "cell_type": "code",
   "execution_count": 25,
   "metadata": {},
   "outputs": [
    {
     "data": {
      "text/plain": [
       "'\\nplt.scatter(df[\"Rain_sum\"],df[\"Height\"])\\nz = np.polyfit(df[\"Rain_sum\"], df[\"Height\"], 3)\\np = np.poly1d(z)\\ntrend_h = p(df[\"Rain_sum\"])\\nplt.scatter(df[\"Rain_sum\"],trend_h)\\nplt.title(\"rain height\")\\nplt.show()\\n\\nplt.scatter(df[\"Mean_temp\"],df[\"Height\"])\\nz = np.polyfit(df[\"Mean_temp\"], df[\"Height\"], 5)\\np = np.poly1d(z)\\ntrend_h = p(df[\"Mean_temp\"])\\nplt.scatter(df[\"Mean_temp\"],trend_h)\\nplt.title(\"temp height\")\\nplt.show()\\n\\ny = 2009\\n\\nframes = {}\\nfor i in range(int(len(df)/12)):\\n    dfY = df.loc[df[\"Year\"] == y]\\n    frames[y]=dfY\\n    y += 1\\n    pass\\n\\n\\nrain = [0]*12\\n#height = [0]*12\\ntemp = [0]*12\\n\\nfor df in frames.values():\\n    for i in range(1,len(df)+1):\\n        monthDf: pd.DataFrame\\n        monthDf = df.loc[ df[\"Month\"] == i]\\n\\n        rain[i-1] += monthDf[\"Rain_sum\"].values[0]\\n        #height[i-1] += monthDf[\"Height\"].values[0]\\n        temp[i-1] += monthDf[\"Mean_temp\"].values[0]\\n\\n\\nrain = [x / int(len(frames)) for x in rain]\\n#height = [x / int(len(frames)) - 150 for x in height]\\ntemp = [x / int(len(frames)) for x in temp]\\n\\nprint(rain)\\n'"
      ]
     },
     "execution_count": 25,
     "metadata": {},
     "output_type": "execute_result"
    }
   ],
   "source": [
    "\"\"\"\n",
    "plt.scatter(df[\"Rain_sum\"],df[\"Height\"])\n",
    "z = np.polyfit(df[\"Rain_sum\"], df[\"Height\"], 3)\n",
    "p = np.poly1d(z)\n",
    "trend_h = p(df[\"Rain_sum\"])\n",
    "plt.scatter(df[\"Rain_sum\"],trend_h)\n",
    "plt.title(\"rain height\")\n",
    "plt.show()\n",
    "\n",
    "plt.scatter(df[\"Mean_temp\"],df[\"Height\"])\n",
    "z = np.polyfit(df[\"Mean_temp\"], df[\"Height\"], 5)\n",
    "p = np.poly1d(z)\n",
    "trend_h = p(df[\"Mean_temp\"])\n",
    "plt.scatter(df[\"Mean_temp\"],trend_h)\n",
    "plt.title(\"temp height\")\n",
    "plt.show()\n",
    "\n",
    "y = 2009\n",
    "\n",
    "frames = {}\n",
    "for i in range(int(len(df)/12)):\n",
    "    dfY = df.loc[df[\"Year\"] == y]\n",
    "    frames[y]=dfY\n",
    "    y += 1\n",
    "    pass\n",
    "\n",
    "\n",
    "rain = [0]*12\n",
    "#height = [0]*12\n",
    "temp = [0]*12\n",
    "\n",
    "for df in frames.values():\n",
    "    for i in range(1,len(df)+1):\n",
    "        monthDf: pd.DataFrame\n",
    "        monthDf = df.loc[ df[\"Month\"] == i]\n",
    "\n",
    "        rain[i-1] += monthDf[\"Rain_sum\"].values[0]\n",
    "        #height[i-1] += monthDf[\"Height\"].values[0]\n",
    "        temp[i-1] += monthDf[\"Mean_temp\"].values[0]\n",
    "\n",
    "\n",
    "rain = [x / int(len(frames)) for x in rain]\n",
    "#height = [x / int(len(frames)) - 150 for x in height]\n",
    "temp = [x / int(len(frames)) for x in temp]\n",
    "\n",
    "print(rain)\n",
    "\"\"\"\n"
   ]
  },
  {
   "cell_type": "code",
   "execution_count": 26,
   "metadata": {},
   "outputs": [
    {
     "data": {
      "text/plain": [
       "'\\nfig, ax1 = plt.subplots(figsize = (10, 5))\\nax2 = ax1.twinx()\\n\\nmonths = np.linspace(1,12,12).tolist()\\nprint(months)\\nprint(rain)\\nax1.bar(months,rain)\\nax1.set_ylabel(\"Rain [mm]\")\\nax2.plot(months,temp,\\'r\\')\\nax2.set_ylabel(\"Temp [C]\")\\nplt.title(\"Mean rain and temp\")\\nplt.show()\\n'"
      ]
     },
     "execution_count": 26,
     "metadata": {},
     "output_type": "execute_result"
    }
   ],
   "source": [
    "\"\"\"\n",
    "fig, ax1 = plt.subplots(figsize = (10, 5))\n",
    "ax2 = ax1.twinx()\n",
    "\n",
    "months = np.linspace(1,12,12).tolist()\n",
    "print(months)\n",
    "print(rain)\n",
    "ax1.bar(months,rain)\n",
    "ax1.set_ylabel(\"Rain [mm]\")\n",
    "ax2.plot(months,temp,'r')\n",
    "ax2.set_ylabel(\"Temp [C]\")\n",
    "plt.title(\"Mean rain and temp\")\n",
    "plt.show()\n",
    "\"\"\""
   ]
  },
  {
   "cell_type": "code",
   "execution_count": 27,
   "metadata": {},
   "outputs": [
    {
     "data": {
      "text/plain": [
       "'\\nfig, ax1 = plt.subplots(figsize = (10, 5))\\nax2 = ax1.twinx()\\n\\nmonths = np.linspace(1,12,12).tolist()\\n\\nax1.bar(months,height)\\nax1.set_ylabel(\"Height [mm]\")\\nax2.plot(months,rain,\\'r\\')\\nax2.set_ylabel(\"Rain [mm]\")\\nplt.title(\"Mean height and rain\")\\nplt.show()\\n'"
      ]
     },
     "execution_count": 27,
     "metadata": {},
     "output_type": "execute_result"
    }
   ],
   "source": [
    "\"\"\"\n",
    "fig, ax1 = plt.subplots(figsize = (10, 5))\n",
    "ax2 = ax1.twinx()\n",
    "\n",
    "months = np.linspace(1,12,12).tolist()\n",
    "\n",
    "ax1.bar(months,height)\n",
    "ax1.set_ylabel(\"Height [mm]\")\n",
    "ax2.plot(months,rain,'r')\n",
    "ax2.set_ylabel(\"Rain [mm]\")\n",
    "plt.title(\"Mean height and rain\")\n",
    "plt.show()\n",
    "\"\"\""
   ]
  },
  {
   "cell_type": "code",
   "execution_count": 28,
   "metadata": {},
   "outputs": [
    {
     "data": {
      "text/plain": [
       "'\\nfig, ax1 = plt.subplots(figsize = (10, 5))\\nax2 = ax1.twinx()\\n\\nmonths = np.linspace(1,12,12).tolist()\\n\\nax1.bar(months,height)\\nax1.set_ylabel(\"Height [mm]\")\\nax2.plot(months,temp,\\'r\\')\\nax2.set_ylabel(\"Temp [C]\")\\nplt.title(\"Mean height and temp\")\\nplt.show()\\n'"
      ]
     },
     "execution_count": 28,
     "metadata": {},
     "output_type": "execute_result"
    }
   ],
   "source": [
    "\"\"\"\n",
    "fig, ax1 = plt.subplots(figsize = (10, 5))\n",
    "ax2 = ax1.twinx()\n",
    "\n",
    "months = np.linspace(1,12,12).tolist()\n",
    "\n",
    "ax1.bar(months,height)\n",
    "ax1.set_ylabel(\"Height [mm]\")\n",
    "ax2.plot(months,temp,'r')\n",
    "ax2.set_ylabel(\"Temp [C]\")\n",
    "plt.title(\"Mean height and temp\")\n",
    "plt.show()\n",
    "\"\"\""
   ]
  },
  {
   "cell_type": "code",
   "execution_count": 29,
   "metadata": {},
   "outputs": [
    {
     "name": "stdout",
     "output_type": "stream",
     "text": [
      "{1951: 471.00000000000006, 1952: 466.9, 1953: 598.5, 1954: 582.3000000000001, 1955: 757.5, 1956: 663.6000000000001, 1957: 793.0999999999999, 1958: 637.0999999999999, 1959: 762.5, 1960: 945.5999999999999, 1961: 652.1999999999999, 1962: 529.2, 1963: 586.0, 1964: 563.4, 1965: 792.2, 1966: 794.5, 1967: 725.3, 1968: 785.6999999999999, 1969: 623.6, 1970: 715.9, 1971: 630.6, 1972: 949.7, 1973: 649.5, 1974: 784.6, 1975: 692.5000000000001, 1976: 438.2, 1977: 785.3, 1978: 658.2, 1979: 529.6, 1980: 802.9, 1981: 863.1, 1982: 418.2, 1983: 404.6, 1984: 590.0999999999999, 1985: 949.5000000000001, 1986: 629.0, 1987: 756.6, 1988: 607.6, 1989: 770.1, 1990: 566.9, 1991: 580.1000000000001, 1992: 359.09999999999997, 1993: 611.3000000000001, 1994: 517.1999999999999, 1995: 587.7, 1996: 820.3000000000001, 1997: 952.1999999999998, 1998: 749.7999999999998, 1999: 733.5, 2000: 728.9000000000001, 2001: 761.0, 2002: 542.8, 2003: 494.8, 2004: 723.4000000000001, 2005: 582.9, 2006: 670.2, 2007: 668.8, 2008: 569.5, 2009: 731.6999999999998, 2010: 1027.6, 2011: 1015.4, 2012: 783.8999999999999, 2013: 743.3, 2014: 633.5000000000001, 2015: 459.3000000000001, 2016: 798.8, 2017: 839.1, 2018: 791.3000000000001, 2019: 445.0}\n"
     ]
    },
    {
     "data": {
      "image/png": "[encoded data removed]",
      "text/plain": [
       "<Figure size 432x288 with 1 Axes>"
      ]
     },
     "metadata": {
      "needs_background": "light"
     },
     "output_type": "display_data"
    },
    {
     "data": {
      "image/png": "[encoded data removed]",
      "text/plain": [
       "<Figure size 432x288 with 1 Axes>"
      ]
     },
     "metadata": {
      "needs_background": "light"
     },
     "output_type": "display_data"
    },
    {
     "data": {
      "image/png": "[encoded data removed]",
      "text/plain": [
       "<Figure size 432x288 with 1 Axes>"
      ]
     },
     "metadata": {
      "needs_background": "light"
     },
     "output_type": "display_data"
    }
   ],
   "source": [
    "df = pd.read_csv(\"tidy_data.csv\")\n",
    "df = df.reset_index()\n",
    "\n",
    "rain_sum = dict()\n",
    "rain_day = dict()\n",
    "temp_avg = dict()\n",
    "\n",
    "months = [6,7,8]\n",
    "\n",
    "for index, row in df.iterrows():\n",
    "    if row['Year'] not in rain_sum.keys():\n",
    "        rain_sum[row['Year']] = 0\n",
    "    if row['Year'] not in rain_day.keys():\n",
    "        rain_day[row['Year']] = 0\n",
    "    if row['Year'] not in temp_avg.keys():\n",
    "        temp_avg[row['Year']] = 0\n",
    "\n",
    "    if row['Month'] in months:\n",
    "        rain_sum[row['Year']] += round(row['Rain_sum'], 2)\n",
    "        rain_day[row['Year']] += row['Days_w_rain']\n",
    "        temp_avg[row['Year']] += row['Mean_temp']\n",
    "\n",
    "station_number = df['Name'].nunique()\n",
    "\n",
    "rain_sum = {k: v/station_number for k, v in rain_sum.items()}\n",
    "rain_day = {k: v/station_number for k, v in rain_day.items()}\n",
    "temp_avg = {k: v/station_number for k, v in temp_avg.items()}\n",
    "\n",
    "temp_avg = {k: v/len(months) for k, v in temp_avg.items()}\n",
    "\n",
    "years = list(rain_sum.keys())\n",
    "values = list(rain_sum.values())\n",
    "\n",
    "plt.scatter(years, values)\n",
    "z = np.polyfit(years, values, 2)\n",
    "p = np.poly1d(z)\n",
    "trend_h = p(years)\n",
    "plt.plot(years,trend_h, \"r-\")\n",
    "plt.title(\"Sum of rain\")\n",
    "plt.show()\n",
    "\n",
    "years = list(rain_day.keys())\n",
    "values = list(rain_day.values())\n",
    "\n",
    "plt.scatter(years, values)\n",
    "z = np.polyfit(years, values, 2)\n",
    "p = np.poly1d(z)\n",
    "trend_h = p(years)\n",
    "plt.plot(years,trend_h, \"r-\")\n",
    "plt.title(\"Days of rain\")\n",
    "plt.show()\n",
    "\n",
    "years = list(temp_avg.keys())\n",
    "values = list(temp_avg.values())\n",
    "\n",
    "plt.scatter(years, values)\n",
    "z = np.polyfit(years, values, 2)\n",
    "p = np.poly1d(z)\n",
    "trend_h = p(years)\n",
    "plt.plot(years,trend_h, \"r-\")\n",
    "plt.title(\"Mean temp\")\n",
    "plt.show()\n"
   ]
  }
 ],
 "metadata": {
  "interpreter": {
   "hash": "69ba97b6de4c4cceb637ad5abfcb85a29dbe1480b6b2600c1da4d58015243c0a"
  },
  "kernelspec": {
   "display_name": "Python 3.9.4 ('base')",
   "language": "python",
   "name": "python3"
  },
  "language_info": {
   "codemirror_mode": {
    "name": "ipython",
    "version": 3
   },
   "file_extension": ".py",
   "mimetype": "text/x-python",
   "name": "python",
   "nbconvert_exporter": "python",
   "pygments_lexer": "ipython3",
   "version": "3.9.4"
  },
  "orig_nbformat": 4
 },
 "nbformat": 4,
 "nbformat_minor": 2
}
