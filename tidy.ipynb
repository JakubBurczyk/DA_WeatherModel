{
 "cells": [
  {
   "cell_type": "code",
   "execution_count": 11,
   "metadata": {},
   "outputs": [],
   "source": [
    "from __future__ import annotations\n",
    "import pandas as pd\n",
    "import os"
   ]
  },
  {
   "cell_type": "code",
   "execution_count": 9,
   "metadata": {},
   "outputs": [],
   "source": [
    "data_dir = os.path.join(os.path.dirname('file'))\n",
    "data_dir = os.path.join(\"data\")\n",
    "data_dir = os.path.abspath(data_dir)\n",
    "\n",
    "hydro_dir = os.path.join(data_dir,'hydro')\n",
    "climate_dir = os.path.join(data_dir,'climate')"
   ]
  },
  {
   "cell_type": "code",
   "execution_count": 46,
   "metadata": {},
   "outputs": [],
   "source": [
    "def csv_dir_to_df(dir,prefix,cols):\n",
    "    result = {}\n",
    "\n",
    "    for file in os.listdir(dir):\n",
    "        if file.startswith(prefix) and file.endswith(\".csv\"):\n",
    "            file_path = os.path.abspath(os.path.join(dir, file))\n",
    "            \n",
    "            df  = pd.read_csv(file_path,header = None,names = cols,encoding=\"ANSI\")\n",
    "            result[file] = df\n",
    "\n",
    "    return result"
   ]
  },
  {
   "cell_type": "code",
   "execution_count": 47,
   "metadata": {},
   "outputs": [
    {
     "name": "stdout",
     "output_type": "stream",
     "text": [
      "dict_keys(['mies_2010.csv', 'mies_2011.csv', 'mies_2012.csv', 'mies_2013.csv', 'mies_2014.csv', 'mies_2015.csv', 'mies_2016.csv', 'mies_2017.csv', 'mies_2018.csv', 'mies_2019.csv', 'mies_2020.csv'])\n",
      "dict_keys(['k_m_d_2010.csv', 'k_m_d_2011.csv', 'k_m_d_2012.csv', 'k_m_d_2013.csv', 'k_m_d_2014.csv', 'k_m_d_2015.csv', 'k_m_d_2016.csv', 'k_m_d_2017.csv', 'k_m_d_2018.csv', 'k_m_d_2019.csv', 'k_m_d_2020.csv'])\n"
     ]
    }
   ],
   "source": [
    "hydro_data = csv_dir_to_df(hydro_dir,\"mies\",[\"Code\",\"Name\",\"River\",\"Water_year\",\"Water_month\",\"Extrema\",\"Height\",\"Q\",\"Water_temp\",\"Month\"])\n",
    "climate_data = csv_dir_to_df(climate_dir,\"k_m_d_\",[\"Code\",\"Name\",\"Year\",\"Month\",\"Abs_max_temp\",\"State_tmax\",\"Mean_max_temp\",\"State_tmeanmax\",\"Abs_min_temp\",\"State_tmin\",\"Mean_min_temp\",\"State_tmeanmin\",\"Mean_temp\",\"State_mean_temp\",\"Min_ground_temp\",\"State_min_tground\",\"Rain_sum\",\"State_rain_sum\",\"Max_daily_rain\",\"Status_max_dayrain\",\"First_day_max_rain\",\"Last_day_max_rain\",\"Max_snow\",\"Status_max_snow\",\"Days_w_snow_on_gnd\",\"Days_w_rain\",\"Days_w_snow\"])\n",
    "print(hydro_data.keys())\n",
    "print(climate_data.keys())"
   ]
  }
 ],
 "metadata": {
  "interpreter": {
   "hash": "1dcf6f71f69442d51da05fb95803394e70f4c22b409b98cd1950ec3cde423e9e"
  },
  "kernelspec": {
   "display_name": "Python 3.9.7 ('cmdstan')",
   "language": "python",
   "name": "python3"
  },
  "language_info": {
   "codemirror_mode": {
    "name": "ipython",
    "version": 3
   },
   "file_extension": ".py",
   "mimetype": "text/x-python",
   "name": "python",
   "nbconvert_exporter": "python",
   "pygments_lexer": "ipython3",
   "version": "3.9.7"
  },
  "orig_nbformat": 4
 },
 "nbformat": 4,
 "nbformat_minor": 2
}
