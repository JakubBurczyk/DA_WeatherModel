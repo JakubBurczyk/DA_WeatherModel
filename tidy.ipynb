{
 "cells": [
  {
   "cell_type": "code",
   "execution_count": 9,
   "metadata": {},
   "outputs": [],
   "source": [
    "from __future__ import annotations\n",
    "import pandas as pd\n",
    "import os"
   ]
  },
  {
   "cell_type": "code",
   "execution_count": 22,
   "metadata": {},
   "outputs": [],
   "source": [
    "data_dir = os.path.join(os.path.dirname('__file__'))\n",
    "data_dir = os.path.join(\"data\")\n",
    "data_dir = os.path.abspath(data_dir)\n",
    "\n",
    "hydro_dir = os.path.join(data_dir,'hydro')\n",
    "climate_dir = os.path.join(data_dir,'climate')"
   ]
  },
  {
   "cell_type": "code",
   "execution_count": 25,
   "metadata": {},
   "outputs": [
    {
     "name": "stdout",
     "output_type": "stream",
     "text": [
      "mies_2010.csv\n",
      "mies_2011.csv\n",
      "mies_2012.csv\n",
      "mies_2013.csv\n",
      "mies_2014.csv\n",
      "mies_2015.csv\n",
      "mies_2016.csv\n",
      "mies_2017.csv\n",
      "mies_2018.csv\n",
      "mies_2019.csv\n",
      "mies_2020.csv\n"
     ]
    }
   ],
   "source": [
    "for file in os.listdir(hydro_dir):\n",
    "    if file.startswith(\"mies\"):\n",
    "        print(file)"
   ]
  }
 ],
 "metadata": {
  "interpreter": {
   "hash": "1dcf6f71f69442d51da05fb95803394e70f4c22b409b98cd1950ec3cde423e9e"
  },
  "kernelspec": {
   "display_name": "Python 3.9.7 ('cmdstan')",
   "language": "python",
   "name": "python3"
  },
  "language_info": {
   "codemirror_mode": {
    "name": "ipython",
    "version": 3
   },
   "file_extension": ".py",
   "mimetype": "text/x-python",
   "name": "python",
   "nbconvert_exporter": "python",
   "pygments_lexer": "ipython3",
   "version": "3.9.7"
  },
  "orig_nbformat": 4
 },
 "nbformat": 4,
 "nbformat_minor": 2
}
