{
 "cells": [
  {
   "cell_type": "code",
   "execution_count": 1,
   "metadata": {},
   "outputs": [],
   "source": [
    "from __future__ import annotations\n",
    "import pandas as pd\n",
    "import os"
   ]
  },
  {
   "cell_type": "code",
   "execution_count": 2,
   "metadata": {},
   "outputs": [],
   "source": [
    "data_dir = os.path.join(os.path.dirname('file'))\n",
    "data_dir = os.path.join(\"data\")\n",
    "data_dir = os.path.abspath(data_dir)\n",
    "\n",
    "hydro_dir = os.path.join(data_dir,'hydro')\n",
    "climate_dir = os.path.join(data_dir,'climate')"
   ]
  },
  {
   "cell_type": "code",
   "execution_count": 13,
   "metadata": {},
   "outputs": [],
   "source": [
    "def csv_dir_to_df(dir,prefix,cols):\n",
    "    result = {}\n",
    "\n",
    "    for file in os.listdir(dir):\n",
    "        if file.startswith(prefix) and file.endswith(\".csv\"):\n",
    "            file_path = os.path.abspath(os.path.join(dir, file))\n",
    "            \n",
    "            result[file] = pd.read_csv(file_path,header = None,names = cols,encoding=\"ANSI\")\n",
    "            \n",
    "    return result"
   ]
  },
  {
   "cell_type": "code",
   "execution_count": 34,
   "metadata": {},
   "outputs": [],
   "source": [
    "hydro_data: pd.DataFrame\n",
    "climate_data: pd.DataFrame\n",
    "\n",
    "hydro_data = csv_dir_to_df(hydro_dir,\"mies\",[\"Code\",\"Name\",\"River\",\"Water_year\",\"Water_month\",\"Extrema\",\"Height\",\"Q\",\"Water_temp\",\"Month\"])\n",
    "climate_data = csv_dir_to_df(climate_dir,\"k_m_d_\",\n",
    "[\"Code\",\"Name\",\"Year\",\"Month\",\"Abs_max_temp\",\"State_tmax\",\"Mean_max_temp\",\"State_tmeanmax\",\"Abs_min_temp\",\"State_tmin\",\"Mean_min_temp\",\n",
    "\"State_tmeanmin\",\"Mean_temp\",\"State_mean_temp\",\"Min_ground_temp\",\"State_min_tground\",\"Rain_sum\",\"State_rain_sum\",\"Max_daily_rain\",\"Status_max_dayrain\",\n",
    "\"First_day_max_rain\",\"Last_day_max_rain\",\"Max_snow\",\"Status_max_snow\",\"Days_w_snow_on_gnd\",\"Days_w_rain\",\"Days_w_snow\"])\n",
    "\n",
    "for hdata in hydro_data:\n",
    "    hydro_data[hdata].drop(columns=[\"Code\"])\n",
    "    hydro_data[hdata].drop(columns=[\"Q\"])\n",
    "    hydro_data[hdata].drop(columns=[\"River\"])\n",
    "\n",
    "for cdata in climate_data:\n",
    "    climate_data[cdata].drop(columns=[\"Abs_max_temp\"],inplace=True)\n",
    "    climate_data[cdata].drop(columns=[\"State_tmax\"],inplace=True)\n",
    "    climate_data[cdata].drop(columns=[\"Mean_max_temp\"],inplace=True)\n",
    "    climate_data[cdata].drop(columns=[\"State_tmeanmax\"],inplace=True)\n",
    "    climate_data[cdata].drop(columns=[\"Abs_min_temp\"],inplace=True)\n",
    "    climate_data[cdata].drop(columns=[\"State_tmin\"],inplace=True)\n",
    "    climate_data[cdata].drop(columns=[\"Mean_min_temp\"],inplace=True)\n",
    "    climate_data[cdata].drop(columns=[\"State_tmeanmin\"],inplace=True)\n",
    "    climate_data[cdata].drop(columns=[\"Min_ground_temp\"],inplace=True)\n",
    "    climate_data[cdata].drop(columns=[\"State_min_tground\"],inplace=True)\n",
    "    climate_data[cdata].drop(columns=[\"Max_daily_rain\"],inplace=True)\n",
    "    climate_data[cdata].drop(columns=[\"Status_max_dayrain\"],inplace=True)\n",
    "    climate_data[cdata].drop(columns=[\"First_day_max_rain\"],inplace=True)\n",
    "    climate_data[cdata].drop(columns=[\"Last_day_max_rain\"],inplace=True)\n",
    "    climate_data[cdata].drop(columns=[\"Max_snow\"],inplace=True)\n",
    "    climate_data[cdata].drop(columns=[\"Status_max_snow\"],inplace=True)\n",
    "    climate_data[cdata].drop(columns=[\"Days_w_snow_on_gnd\"],inplace=True)\n",
    "    climate_data[cdata].drop(columns=[\"Days_w_rain\"],inplace=True)\n",
    "    climate_data[cdata].drop(columns=[\"Days_w_snow\"],inplace=True)\n"
   ]
  },
  {
   "cell_type": "code",
   "execution_count": 38,
   "metadata": {},
   "outputs": [
    {
     "ename": "KeyError",
     "evalue": "'k_m_d_2010.csv'",
     "output_type": "error",
     "traceback": [
      "\u001b[1;31m---------------------------------------------------------------------------\u001b[0m",
      "\u001b[1;31mKeyError\u001b[0m                                  Traceback (most recent call last)",
      "\u001b[1;32mc:\\Users\\Jakub Burczyk\\Documents\\PycharmProjects\\DA_WeatherModel\\tidy.ipynb Cell 5'\u001b[0m in \u001b[0;36m<cell line: 2>\u001b[1;34m()\u001b[0m\n\u001b[0;32m      <a href='vscode-notebook-cell:/c%3A/Users/Jakub%20Burczyk/Documents/PycharmProjects/DA_WeatherModel/tidy.ipynb#ch0000004?line=0'>1</a>\u001b[0m hydro_keys \u001b[39m=\u001b[39m \u001b[39mlist\u001b[39m(climate_data\u001b[39m.\u001b[39mkeys())\n\u001b[1;32m----> <a href='vscode-notebook-cell:/c%3A/Users/Jakub%20Burczyk/Documents/PycharmProjects/DA_WeatherModel/tidy.ipynb#ch0000004?line=1'>2</a>\u001b[0m \u001b[39mprint\u001b[39m(hydro_data[hydro_keys[\u001b[39m0\u001b[39;49m]])\n\u001b[0;32m      <a href='vscode-notebook-cell:/c%3A/Users/Jakub%20Burczyk/Documents/PycharmProjects/DA_WeatherModel/tidy.ipynb#ch0000004?line=3'>4</a>\u001b[0m climate_keys \u001b[39m=\u001b[39m \u001b[39mlist\u001b[39m(climate_data\u001b[39m.\u001b[39mkeys())\n\u001b[0;32m      <a href='vscode-notebook-cell:/c%3A/Users/Jakub%20Burczyk/Documents/PycharmProjects/DA_WeatherModel/tidy.ipynb#ch0000004?line=4'>5</a>\u001b[0m \u001b[39mprint\u001b[39m(climate_data[climate_keys[\u001b[39m0\u001b[39m]])\n",
      "\u001b[1;31mKeyError\u001b[0m: 'k_m_d_2010.csv'"
     ]
    }
   ],
   "source": [
    "hydro_keys = list(hydro_data.keys())\n",
    "print(hydro_data[hydro_keys[0]])\n",
    "\n",
    "climate_keys = list(climate_data.keys())\n",
    "print(climate_data[climate_keys[0]])"
   ]
  }
 ],
 "metadata": {
  "interpreter": {
   "hash": "1dcf6f71f69442d51da05fb95803394e70f4c22b409b98cd1950ec3cde423e9e"
  },
  "kernelspec": {
   "display_name": "Python 3.9.7 ('cmdstan')",
   "language": "python",
   "name": "python3"
  },
  "language_info": {
   "codemirror_mode": {
    "name": "ipython",
    "version": 3
   },
   "file_extension": ".py",
   "mimetype": "text/x-python",
   "name": "python",
   "nbconvert_exporter": "python",
   "pygments_lexer": "ipython3",
   "version": "3.9.7"
  },
  "orig_nbformat": 4
 },
 "nbformat": 4,
 "nbformat_minor": 2
}
