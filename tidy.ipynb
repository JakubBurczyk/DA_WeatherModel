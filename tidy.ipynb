{
 "cells": [
  {
   "cell_type": "code",
   "execution_count": 1,
   "metadata": {},
   "outputs": [],
   "source": [
    "from __future__ import annotations\n",
    "import pandas as pd\n",
    "import os"
   ]
  },
  {
   "cell_type": "code",
   "execution_count": 2,
   "metadata": {},
   "outputs": [],
   "source": [
    "data_dir = os.path.join(os.path.dirname('file'))\n",
    "data_dir = os.path.join(\"data\")\n",
    "data_dir = os.path.abspath(data_dir)\n",
    "\n",
    "hydro_dir = os.path.join(data_dir,'hydro')\n",
    "climate_dir = os.path.join(data_dir,'climate')"
   ]
  },
  {
   "cell_type": "code",
   "execution_count": 13,
   "metadata": {},
   "outputs": [],
   "source": [
    "def csv_dir_to_df(dir,prefix,cols):\n",
    "    result = {}\n",
    "\n",
    "    for file in os.listdir(dir):\n",
    "        if file.startswith(prefix) and file.endswith(\".csv\"):\n",
    "            file_path = os.path.abspath(os.path.join(dir, file))\n",
    "            \n",
    "            result[file] = pd.read_csv(file_path,header = None,names = cols,encoding=\"ANSI\")\n",
    "            \n",
    "    return result"
   ]
  },
  {
   "cell_type": "code",
   "execution_count": 52,
   "metadata": {},
   "outputs": [
    {
     "ename": "ValueError",
     "evalue": "The truth value of a Series is ambiguous. Use a.empty, a.bool(), a.item(), a.any() or a.all().",
     "output_type": "error",
     "traceback": [
      "\u001b[1;31m---------------------------------------------------------------------------\u001b[0m",
      "\u001b[1;31mValueError\u001b[0m                                Traceback (most recent call last)",
      "\u001b[1;32mc:\\Users\\Jakub Burczyk\\Documents\\PycharmProjects\\DA_WeatherModel\\tidy.ipynb Cell 4'\u001b[0m in \u001b[0;36m<cell line: 10>\u001b[1;34m()\u001b[0m\n\u001b[0;32m     <a href='vscode-notebook-cell:/c%3A/Users/Jakub%20Burczyk/Documents/PycharmProjects/DA_WeatherModel/tidy.ipynb#ch0000003?line=12'>13</a>\u001b[0m     df\u001b[39m.\u001b[39mdrop(columns\u001b[39m=\u001b[39m[\u001b[39m\"\u001b[39m\u001b[39mQ\u001b[39m\u001b[39m\"\u001b[39m])\n\u001b[0;32m     <a href='vscode-notebook-cell:/c%3A/Users/Jakub%20Burczyk/Documents/PycharmProjects/DA_WeatherModel/tidy.ipynb#ch0000003?line=13'>14</a>\u001b[0m     df\u001b[39m.\u001b[39mdrop(columns\u001b[39m=\u001b[39m[\u001b[39m\"\u001b[39m\u001b[39mRiver\u001b[39m\u001b[39m\"\u001b[39m])\n\u001b[1;32m---> <a href='vscode-notebook-cell:/c%3A/Users/Jakub%20Burczyk/Documents/PycharmProjects/DA_WeatherModel/tidy.ipynb#ch0000003?line=15'>16</a>\u001b[0m     df\u001b[39m.\u001b[39mdrop(df[(df[\u001b[39m\"\u001b[39m\u001b[39mName\u001b[39m\u001b[39m\"\u001b[39m] \u001b[39m!=\u001b[39m \u001b[39m\"\u001b[39m\u001b[39mKRAKÓW-BIELANY\u001b[39m\u001b[39m\"\u001b[39m \u001b[39mand\u001b[39;00m df[\u001b[39m\"\u001b[39m\u001b[39mExtrema\u001b[39m\u001b[39m\"\u001b[39m] \u001b[39m==\u001b[39m \u001b[39m2\u001b[39m)\u001b[39m.\u001b[39mall()]\u001b[39m.\u001b[39mindex, inplace\u001b[39m=\u001b[39m\u001b[39mTrue\u001b[39;00m)\n\u001b[0;32m     <a href='vscode-notebook-cell:/c%3A/Users/Jakub%20Burczyk/Documents/PycharmProjects/DA_WeatherModel/tidy.ipynb#ch0000003?line=17'>18</a>\u001b[0m \u001b[39mfor\u001b[39;00m cdata \u001b[39min\u001b[39;00m climate_data:\n\u001b[0;32m     <a href='vscode-notebook-cell:/c%3A/Users/Jakub%20Burczyk/Documents/PycharmProjects/DA_WeatherModel/tidy.ipynb#ch0000003?line=18'>19</a>\u001b[0m     df \u001b[39m=\u001b[39m climate_data[cdata]\n",
      "File \u001b[1;32mc:\\anaconda3\\envs\\cmdstan\\lib\\site-packages\\pandas\\core\\generic.py:1535\u001b[0m, in \u001b[0;36mNDFrame.__nonzero__\u001b[1;34m(self)\u001b[0m\n\u001b[0;32m   <a href='file:///c%3A/anaconda3/envs/cmdstan/lib/site-packages/pandas/core/generic.py?line=1532'>1533</a>\u001b[0m \u001b[39m@final\u001b[39m\n\u001b[0;32m   <a href='file:///c%3A/anaconda3/envs/cmdstan/lib/site-packages/pandas/core/generic.py?line=1533'>1534</a>\u001b[0m \u001b[39mdef\u001b[39;00m \u001b[39m__nonzero__\u001b[39m(\u001b[39mself\u001b[39m):\n\u001b[1;32m-> <a href='file:///c%3A/anaconda3/envs/cmdstan/lib/site-packages/pandas/core/generic.py?line=1534'>1535</a>\u001b[0m     \u001b[39mraise\u001b[39;00m \u001b[39mValueError\u001b[39;00m(\n\u001b[0;32m   <a href='file:///c%3A/anaconda3/envs/cmdstan/lib/site-packages/pandas/core/generic.py?line=1535'>1536</a>\u001b[0m         \u001b[39mf\u001b[39m\u001b[39m\"\u001b[39m\u001b[39mThe truth value of a \u001b[39m\u001b[39m{\u001b[39;00m\u001b[39mtype\u001b[39m(\u001b[39mself\u001b[39m)\u001b[39m.\u001b[39m\u001b[39m__name__\u001b[39m\u001b[39m}\u001b[39;00m\u001b[39m is ambiguous. \u001b[39m\u001b[39m\"\u001b[39m\n\u001b[0;32m   <a href='file:///c%3A/anaconda3/envs/cmdstan/lib/site-packages/pandas/core/generic.py?line=1536'>1537</a>\u001b[0m         \u001b[39m\"\u001b[39m\u001b[39mUse a.empty, a.bool(), a.item(), a.any() or a.all().\u001b[39m\u001b[39m\"\u001b[39m\n\u001b[0;32m   <a href='file:///c%3A/anaconda3/envs/cmdstan/lib/site-packages/pandas/core/generic.py?line=1537'>1538</a>\u001b[0m     )\n",
      "\u001b[1;31mValueError\u001b[0m: The truth value of a Series is ambiguous. Use a.empty, a.bool(), a.item(), a.any() or a.all()."
     ]
    }
   ],
   "source": [
    "hydro_data: pd.DataFrame\n",
    "climate_data: pd.DataFrame\n",
    "\n",
    "hydro_data = csv_dir_to_df(hydro_dir,\"mies\",[\"Code\",\"Name\",\"River\",\"Water_year\",\"Water_month\",\"Extrema\",\"Height\",\"Q\",\"Water_temp\",\"Month\"])\n",
    "climate_data = csv_dir_to_df(climate_dir,\"k_m_d_\",\n",
    "[\"Code\",\"Name\",\"Year\",\"Month\",\"Abs_max_temp\",\"State_tmax\",\"Mean_max_temp\",\"State_tmeanmax\",\"Abs_min_temp\",\"State_tmin\",\"Mean_min_temp\",\n",
    "\"State_tmeanmin\",\"Mean_temp\",\"State_mean_temp\",\"Min_ground_temp\",\"State_min_tground\",\"Rain_sum\",\"State_rain_sum\",\"Max_daily_rain\",\"Status_max_dayrain\",\n",
    "\"First_day_max_rain\",\"Last_day_max_rain\",\"Max_snow\",\"Status_max_snow\",\"Days_w_snow_on_gnd\",\"Days_w_rain\",\"Days_w_snow\"])\n",
    "\n",
    "for hdata in hydro_data:\n",
    "    df = hydro_data[hdata]\n",
    "    df.drop(columns=[\"Code\"])\n",
    "    df.drop(columns=[\"Q\"])\n",
    "    df.drop(columns=[\"River\"])\n",
    "\n",
    "    df.drop(df[df[\"Name\"] != \"KRAKÓW-BIELANY\"].index, inplace=True)\n",
    "    df.drop(df[df[\"Extrema\"] != 2].index, inplace=True)\n",
    "\n",
    "for cdata in climate_data:\n",
    "    df = climate_data[cdata]\n",
    "    df.drop(columns=[\"Abs_max_temp\"],inplace=True)\n",
    "    df.drop(columns=[\"State_tmax\"],inplace=True)\n",
    "    df.drop(columns=[\"Mean_max_temp\"],inplace=True)\n",
    "    df.drop(columns=[\"State_tmeanmax\"],inplace=True)\n",
    "    df.drop(columns=[\"Abs_min_temp\"],inplace=True)\n",
    "    df.drop(columns=[\"State_tmin\"],inplace=True)\n",
    "    df.drop(columns=[\"Mean_min_temp\"],inplace=True)\n",
    "    df.drop(columns=[\"State_tmeanmin\"],inplace=True)\n",
    "    df.drop(columns=[\"Min_ground_temp\"],inplace=True)\n",
    "    df.drop(columns=[\"State_min_tground\"],inplace=True)\n",
    "    df.drop(columns=[\"Max_daily_rain\"],inplace=True)\n",
    "    df.drop(columns=[\"Status_max_dayrain\"],inplace=True)\n",
    "    df.drop(columns=[\"First_day_max_rain\"],inplace=True)\n",
    "    df.drop(columns=[\"Last_day_max_rain\"],inplace=True)\n",
    "    df.drop(columns=[\"Max_snow\"],inplace=True)\n",
    "    df.drop(columns=[\"Status_max_snow\"],inplace=True)\n",
    "    df.drop(columns=[\"Days_w_snow_on_gnd\"],inplace=True)\n",
    "    df.drop(columns=[\"Days_w_rain\"],inplace=True)\n",
    "    df.drop(columns=[\"Days_w_snow\"],inplace=True)\n",
    "\n",
    "    df.drop(df[df[\"Name\"] != \"KRAKÓW-OBSERWATORIUM\"].index, inplace=True)\n"
   ]
  },
  {
   "cell_type": "code",
   "execution_count": 49,
   "metadata": {},
   "outputs": [
    {
     "name": "stdout",
     "output_type": "stream",
     "text": [
      "            Code            Name      River  Water_year  Water_month  Extrema  \\\n",
      "12801  150190340  KRAKÓW-BIELANY  Wisła (2)        2010            1        1   \n",
      "12802  150190340  KRAKÓW-BIELANY  Wisła (2)        2010            1        2   \n",
      "12803  150190340  KRAKÓW-BIELANY  Wisła (2)        2010            1        3   \n",
      "12804  150190340  KRAKÓW-BIELANY  Wisła (2)        2010            2        1   \n",
      "12805  150190340  KRAKÓW-BIELANY  Wisła (2)        2010            2        2   \n",
      "12806  150190340  KRAKÓW-BIELANY  Wisła (2)        2010            2        3   \n",
      "12807  150190340  KRAKÓW-BIELANY  Wisła (2)        2010            3        1   \n",
      "12808  150190340  KRAKÓW-BIELANY  Wisła (2)        2010            3        2   \n",
      "12809  150190340  KRAKÓW-BIELANY  Wisła (2)        2010            3        3   \n",
      "12810  150190340  KRAKÓW-BIELANY  Wisła (2)        2010            4        1   \n",
      "12811  150190340  KRAKÓW-BIELANY  Wisła (2)        2010            4        2   \n",
      "12812  150190340  KRAKÓW-BIELANY  Wisła (2)        2010            4        3   \n",
      "12813  150190340  KRAKÓW-BIELANY  Wisła (2)        2010            5        1   \n",
      "12814  150190340  KRAKÓW-BIELANY  Wisła (2)        2010            5        2   \n",
      "12815  150190340  KRAKÓW-BIELANY  Wisła (2)        2010            5        3   \n",
      "12816  150190340  KRAKÓW-BIELANY  Wisła (2)        2010            6        1   \n",
      "12817  150190340  KRAKÓW-BIELANY  Wisła (2)        2010            6        2   \n",
      "12818  150190340  KRAKÓW-BIELANY  Wisła (2)        2010            6        3   \n",
      "12819  150190340  KRAKÓW-BIELANY  Wisła (2)        2010            7        1   \n",
      "12820  150190340  KRAKÓW-BIELANY  Wisła (2)        2010            7        2   \n",
      "12821  150190340  KRAKÓW-BIELANY  Wisła (2)        2010            7        3   \n",
      "12822  150190340  KRAKÓW-BIELANY  Wisła (2)        2010            8        1   \n",
      "12823  150190340  KRAKÓW-BIELANY  Wisła (2)        2010            8        2   \n",
      "12824  150190340  KRAKÓW-BIELANY  Wisła (2)        2010            8        3   \n",
      "12825  150190340  KRAKÓW-BIELANY  Wisła (2)        2010            9        1   \n",
      "12826  150190340  KRAKÓW-BIELANY  Wisła (2)        2010            9        2   \n",
      "12827  150190340  KRAKÓW-BIELANY  Wisła (2)        2010            9        3   \n",
      "12828  150190340  KRAKÓW-BIELANY  Wisła (2)        2010           10        1   \n",
      "12829  150190340  KRAKÓW-BIELANY  Wisła (2)        2010           10        2   \n",
      "12830  150190340  KRAKÓW-BIELANY  Wisła (2)        2010           10        3   \n",
      "12831  150190340  KRAKÓW-BIELANY  Wisła (2)        2010           11        1   \n",
      "12832  150190340  KRAKÓW-BIELANY  Wisła (2)        2010           11        2   \n",
      "12833  150190340  KRAKÓW-BIELANY  Wisła (2)        2010           11        3   \n",
      "12834  150190340  KRAKÓW-BIELANY  Wisła (2)        2010           12        1   \n",
      "12835  150190340  KRAKÓW-BIELANY  Wisła (2)        2010           12        2   \n",
      "12836  150190340  KRAKÓW-BIELANY  Wisła (2)        2010           12        3   \n",
      "\n",
      "       Height          Q  Water_temp  Month  \n",
      "12801     130  99999.999         5.1     11  \n",
      "12802     181  99999.999         7.0     11  \n",
      "12803     368  99999.999         8.3     11  \n",
      "12804     120  99999.999         0.6     12  \n",
      "12805     147  99999.999         4.3     12  \n",
      "12806     176  99999.999         7.9     12  \n",
      "12807     115  99999.999         1.1      1  \n",
      "12808     152  99999.999        99.9      1  \n",
      "12809     197  99999.999         3.6      1  \n",
      "12810     118  99999.999        99.9      2  \n",
      "12811     159  99999.999        99.9      2  \n",
      "12812     292  99999.999        99.9      2  \n",
      "12813     131  99999.999        99.9      3  \n",
      "12814     176  99999.999        99.9      3  \n",
      "12815     281  99999.999        99.9      3  \n",
      "12816     127  99999.999        99.9      4  \n",
      "12817     162  99999.999        99.9      4  \n",
      "12818     233  99999.999        99.9      4  \n",
      "12819     138  99999.999        99.9      5  \n",
      "12820     371  99999.999        99.9      5  \n",
      "12821     957  99999.999        99.9      5  \n",
      "12822     130  99999.999        99.9      6  \n",
      "12823     239  99999.999        99.9      6  \n",
      "12824     598  99999.999        99.9      6  \n",
      "12825     125  99999.999        99.9      7  \n",
      "12826     166  99999.999        99.9      7  \n",
      "12827     406  99999.999        99.9      7  \n",
      "12828     124  99999.999        99.9      8  \n",
      "12829     176  99999.999        99.9      8  \n",
      "12830     472  99999.999        99.9      8  \n",
      "12831     136  99999.999        99.9      9  \n",
      "12832     261  99999.999        99.9      9  \n",
      "12833     719  99999.999        99.9      9  \n",
      "12834     128  99999.999        99.9     10  \n",
      "12835     157  99999.999        99.9     10  \n",
      "12836     216  99999.999        99.9     10  \n"
     ]
    }
   ],
   "source": [
    "hydro_keys = list(hydro_data.keys())\n",
    "print(hydro_data[hydro_keys[0]])"
   ]
  },
  {
   "cell_type": "code",
   "execution_count": 50,
   "metadata": {},
   "outputs": [
    {
     "name": "stdout",
     "output_type": "stream",
     "text": [
      "          Code                  Name  Year  Month  Mean_temp  State_mean_temp  \\\n",
      "840  250190390  KRAKÓW-OBSERWATORIUM  2010      1       -5.6              NaN   \n",
      "841  250190390  KRAKÓW-OBSERWATORIUM  2010      2       -1.2              NaN   \n",
      "842  250190390  KRAKÓW-OBSERWATORIUM  2010      3        4.0              NaN   \n",
      "843  250190390  KRAKÓW-OBSERWATORIUM  2010      4        9.8              NaN   \n",
      "844  250190390  KRAKÓW-OBSERWATORIUM  2010      5       13.7              NaN   \n",
      "845  250190390  KRAKÓW-OBSERWATORIUM  2010      6       18.1              NaN   \n",
      "846  250190390  KRAKÓW-OBSERWATORIUM  2010      7       21.4              NaN   \n",
      "847  250190390  KRAKÓW-OBSERWATORIUM  2010      8       19.3              NaN   \n",
      "848  250190390  KRAKÓW-OBSERWATORIUM  2010      9       12.8              NaN   \n",
      "849  250190390  KRAKÓW-OBSERWATORIUM  2010     10        6.1              NaN   \n",
      "850  250190390  KRAKÓW-OBSERWATORIUM  2010     11        7.0              NaN   \n",
      "851  250190390  KRAKÓW-OBSERWATORIUM  2010     12       -4.2              NaN   \n",
      "\n",
      "     Rain_sum  State_rain_sum  \n",
      "840      37.2             NaN  \n",
      "841      41.8             NaN  \n",
      "842      26.5             NaN  \n",
      "843      40.1             NaN  \n",
      "844     284.7             NaN  \n",
      "845     154.3             NaN  \n",
      "846     178.9             NaN  \n",
      "847     153.0             NaN  \n",
      "848      96.4             NaN  \n",
      "849      11.1             NaN  \n",
      "850      58.9             NaN  \n",
      "851      43.4             NaN  \n"
     ]
    }
   ],
   "source": [
    "climate_keys = list(climate_data.keys())\n",
    "print(climate_data[climate_keys[0]])"
   ]
  }
 ],
 "metadata": {
  "interpreter": {
   "hash": "1dcf6f71f69442d51da05fb95803394e70f4c22b409b98cd1950ec3cde423e9e"
  },
  "kernelspec": {
   "display_name": "Python 3.9.7 ('cmdstan')",
   "language": "python",
   "name": "python3"
  },
  "language_info": {
   "codemirror_mode": {
    "name": "ipython",
    "version": 3
   },
   "file_extension": ".py",
   "mimetype": "text/x-python",
   "name": "python",
   "nbconvert_exporter": "python",
   "pygments_lexer": "ipython3",
   "version": "3.9.7"
  },
  "orig_nbformat": 4
 },
 "nbformat": 4,
 "nbformat_minor": 2
}
