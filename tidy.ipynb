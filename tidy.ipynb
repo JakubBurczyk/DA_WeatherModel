{
 "cells": [
  {
   "cell_type": "code",
   "execution_count": 21,
   "metadata": {},
   "outputs": [],
   "source": [
    "from __future__ import annotations\n",
    "import pandas as pd\n",
    "import os\n",
    "import matplotlib.pyplot as plt\n",
    "import copy"
   ]
  },
  {
   "cell_type": "code",
   "execution_count": 22,
   "metadata": {},
   "outputs": [],
   "source": [
    "data_dir = os.path.join(os.path.dirname('file'))\n",
    "data_dir = os.path.join(\"data\")\n",
    "data_dir = os.path.abspath(data_dir)\n",
    "\n",
    "hydro_dir = os.path.join(data_dir,'hydro')\n",
    "climate_dir = os.path.join(data_dir,'climate')"
   ]
  },
  {
   "cell_type": "code",
   "execution_count": 23,
   "metadata": {},
   "outputs": [],
   "source": [
    "def csv_dir_to_df(dir,prefix,cols):\n",
    "    result = {}\n",
    "\n",
    "    for file in os.listdir(dir):\n",
    "        if file.startswith(prefix) and file.endswith(\".csv\"):\n",
    "            file_path = os.path.abspath(os.path.join(dir, file))\n",
    "            \n",
    "            result[file] = pd.read_csv(file_path,header = None,names = cols,encoding=\"ANSI\")\n",
    "            \n",
    "    return result"
   ]
  },
  {
   "cell_type": "code",
   "execution_count": 24,
   "metadata": {},
   "outputs": [],
   "source": [
    "hydro_data: pd.DataFrame\n",
    "climate_data: pd.DataFrame\n",
    "\n",
    "hydro_data = csv_dir_to_df(hydro_dir,\"mies\",[\"Code\",\"Name\",\"River\",\"Water_year\",\"Water_month\",\"Extrema\",\"Height\",\"Q\",\"Water_temp\",\"Month\"])\n",
    "climate_data = csv_dir_to_df(climate_dir,\"k_m_d_\",\n",
    "[\"Code\",\"Name\",\"Year\",\"Month\",\"Abs_max_temp\",\"State_tmax\",\"Mean_max_temp\",\"State_tmeanmax\",\"Abs_min_temp\",\"State_tmin\",\"Mean_min_temp\",\n",
    "\"State_tmeanmin\",\"Mean_temp\",\"State_mean_temp\",\"Min_ground_temp\",\"State_min_tground\",\"Rain_sum\",\"State_rain_sum\",\"Max_daily_rain\",\"Status_max_dayrain\",\n",
    "\"First_day_max_rain\",\"Last_day_max_rain\",\"Max_snow\",\"Status_max_snow\",\"Days_w_snow_on_gnd\",\"Days_w_rain\",\"Days_w_snow\"])\n",
    "\n",
    "for hdata in hydro_data:\n",
    "    df = hydro_data[hdata]\n",
    "    df.drop(columns=[\"Code\"], inplace=True)\n",
    "    df.drop(columns=[\"Q\"], inplace=True)\n",
    "    df.drop(columns=[\"River\"], inplace=True)\n",
    "\n",
    "    df.drop(df[df[\"Name\"] != \"KRAKÓW-BIELANY\"].index, inplace=True)\n",
    "    df.drop(df[df[\"Extrema\"] != 2].index, inplace=True)\n",
    "\n",
    "for cdata in climate_data:\n",
    "    df = climate_data[cdata]\n",
    "    df.drop(columns=[\"Abs_max_temp\"],inplace=True)\n",
    "    df.drop(columns=[\"State_tmax\"],inplace=True)\n",
    "    df.drop(columns=[\"Mean_max_temp\"],inplace=True)\n",
    "    df.drop(columns=[\"State_tmeanmax\"],inplace=True)\n",
    "    df.drop(columns=[\"Abs_min_temp\"],inplace=True)\n",
    "    df.drop(columns=[\"State_tmin\"],inplace=True)\n",
    "    df.drop(columns=[\"Mean_min_temp\"],inplace=True)\n",
    "    df.drop(columns=[\"State_tmeanmin\"],inplace=True)\n",
    "    df.drop(columns=[\"Min_ground_temp\"],inplace=True)\n",
    "    df.drop(columns=[\"State_min_tground\"],inplace=True)\n",
    "    df.drop(columns=[\"Max_daily_rain\"],inplace=True)\n",
    "    df.drop(columns=[\"Status_max_dayrain\"],inplace=True)\n",
    "    df.drop(columns=[\"First_day_max_rain\"],inplace=True)\n",
    "    df.drop(columns=[\"Last_day_max_rain\"],inplace=True)\n",
    "    df.drop(columns=[\"Max_snow\"],inplace=True)\n",
    "    df.drop(columns=[\"Status_max_snow\"],inplace=True)\n",
    "    df.drop(columns=[\"Days_w_snow_on_gnd\"],inplace=True)\n",
    "    df.drop(columns=[\"Days_w_snow\"],inplace=True)\n",
    "\n",
    "    df.drop(columns=[\"State_mean_temp\"],inplace=True)\n",
    "    df.drop(columns=[\"State_rain_sum\"],inplace=True)\n",
    "\n",
    "    df2 = copy.deepcopy(df)\n",
    "    df3 = copy.deepcopy(df)\n",
    "\n",
    "    df.drop(df[(df[\"Name\"] != \"KRAKÓW-OBSERWATORIUM\") & (df[\"Name\"] != \"PUŁTUSK\") & (df[\"Name\"] != \"KÓRNIK\")].index, inplace=True)\n"
   ]
  },
  {
   "cell_type": "code",
   "execution_count": 25,
   "metadata": {},
   "outputs": [
    {
     "name": "stdout",
     "output_type": "stream",
     "text": [
      "                 Name  Water_year  Water_month  Extrema  Height  Water_temp  \\\n",
      "12562  KRAKÓW-BIELANY        2009            1        2     148         9.0   \n",
      "12565  KRAKÓW-BIELANY        2009            2        2     166         4.9   \n",
      "12568  KRAKÓW-BIELANY        2009            3        2     161         1.7   \n",
      "12571  KRAKÓW-BIELANY        2009            4        2     170         2.8   \n",
      "12574  KRAKÓW-BIELANY        2009            5        2     241         4.2   \n",
      "\n",
      "       Month  \n",
      "12562     11  \n",
      "12565     12  \n",
      "12568      1  \n",
      "12571      2  \n",
      "12574      3  \n"
     ]
    }
   ],
   "source": [
    "hydro_keys = list(hydro_data.keys())\n",
    "print(hydro_data[hydro_keys[0]].head())\n",
    "\n",
    "for key in hydro_keys:\n",
    "    df: pd.DataFrame\n",
    "    df = df = hydro_data[key]\n",
    "    #plt.plot(df[\"Water_month\"],df[\"Height\"])\n",
    "    #print(df[\"Water_year\"])\n",
    "    #plt.title(f\"{key} - water height\")\n",
    "    #plt.show()\n"
   ]
  },
  {
   "cell_type": "code",
   "execution_count": 26,
   "metadata": {},
   "outputs": [
    {
     "name": "stdout",
     "output_type": "stream",
     "text": [
      "          Code                  Name  Year  Month  Mean_temp  Rain_sum  \\\n",
      "235  250190390  KRAKÓW-OBSERWATORIUM  1951      1       -0.5      29.8   \n",
      "236  250190390  KRAKÓW-OBSERWATORIUM  1951      2        1.3      26.3   \n",
      "237  250190390  KRAKÓW-OBSERWATORIUM  1951      3        2.5      38.8   \n",
      "238  250190390  KRAKÓW-OBSERWATORIUM  1951      4        9.7      61.0   \n",
      "239  250190390  KRAKÓW-OBSERWATORIUM  1951      5       13.3     132.9   \n",
      "\n",
      "     Days_w_rain  \n",
      "235            6  \n",
      "236            2  \n",
      "237           10  \n",
      "238           12  \n",
      "239           19  \n"
     ]
    },
    {
     "data": {
      "text/plain": [
       "'\\nfor key in climate_keys:\\n    df: pd.DataFrame\\n    df = df = climate_data[key]\\n\\n    fig, ax1 = plt.subplots(figsize = (10, 5))\\n    ax2 = ax1.twinx()\\n\\n    \\n    ax1.bar(df[\"Month\"],df[\"Rain_sum\"],)\\n    ax1.set_ylabel(\"Rain [mm]\")\\n    ax2.plot(df[\"Month\"],df[\"Mean_temp\"],\\'r\\')\\n    ax2.set_ylabel(\"Temp [C]\")\\n    #print(df[\"Water_year\"])\\n    plt.title(f\"{key} - rain temp\")\\n    plt.show()\\n'"
      ]
     },
     "execution_count": 26,
     "metadata": {},
     "output_type": "execute_result"
    }
   ],
   "source": [
    "climate_keys = list(climate_data.keys())\n",
    "print(climate_data[climate_keys[0]].head())\n",
    "\n",
    "\"\"\"\n",
    "for key in climate_keys:\n",
    "    df: pd.DataFrame\n",
    "    df = df = climate_data[key]\n",
    "\n",
    "    fig, ax1 = plt.subplots(figsize = (10, 5))\n",
    "    ax2 = ax1.twinx()\n",
    "\n",
    "    \n",
    "    ax1.bar(df[\"Month\"],df[\"Rain_sum\"],)\n",
    "    ax1.set_ylabel(\"Rain [mm]\")\n",
    "    ax2.plot(df[\"Month\"],df[\"Mean_temp\"],'r')\n",
    "    ax2.set_ylabel(\"Temp [C]\")\n",
    "    #print(df[\"Water_year\"])\n",
    "    plt.title(f\"{key} - rain temp\")\n",
    "    plt.show()\n",
    "\"\"\""
   ]
  },
  {
   "cell_type": "code",
   "execution_count": 27,
   "metadata": {},
   "outputs": [
    {
     "name": "stdout",
     "output_type": "stream",
     "text": [
      "      Year  Month                  Name  Mean_temp  Rain_sum  Days_w_rain\n",
      "0     1951      1  KRAKÓW-OBSERWATORIUM       -0.5      29.8            6\n",
      "1     1951      2  KRAKÓW-OBSERWATORIUM        1.3      26.3            2\n",
      "2     1951      3  KRAKÓW-OBSERWATORIUM        2.5      38.8           10\n",
      "3     1951      4  KRAKÓW-OBSERWATORIUM        9.7      61.0           12\n",
      "4     1951      5  KRAKÓW-OBSERWATORIUM       13.3     132.9           19\n",
      "...    ...    ...                   ...        ...       ...          ...\n",
      "2479  2019      8               PUŁTUSK       19.4      57.1            7\n",
      "2480  2019      9               PUŁTUSK       13.8      55.3           12\n",
      "2481  2019     10               PUŁTUSK        9.7      18.3            7\n",
      "2482  2019     11               PUŁTUSK        5.4      20.3           12\n",
      "2483  2019     12               PUŁTUSK        2.4      40.7           11\n",
      "\n",
      "[2484 rows x 6 columns]\n"
     ]
    }
   ],
   "source": [
    "merged_df = pd.DataFrame()\n",
    "\n",
    "for key in climate_keys:\n",
    "    merged_df = pd.concat([merged_df, climate_data[key]])\n",
    "\n",
    "#merged_df['Name'].replace([\"KRAKÓW-OBSERWATORIUM\"], 'Cracow',inplace=True)\n",
    "merged_df.reset_index(inplace=True)\n",
    "merged_df.drop(columns=[\"index\"], inplace=True)\n",
    "merged_df.drop(columns=[\"Code\"], inplace=True)\n",
    "merged_df = merged_df.iloc[:-28, :]\n",
    "\n",
    "merged_df = merged_df[['Year', 'Month', 'Name', 'Mean_temp',  'Rain_sum',  'Days_w_rain']]\n",
    "\n",
    "climate_data = merged_df\n",
    "print(climate_data)"
   ]
  },
  {
   "cell_type": "code",
   "execution_count": 28,
   "metadata": {},
   "outputs": [
    {
     "data": {
      "text/plain": [
       "'\\nmerged_df = pd.DataFrame()\\n\\nfor key in hydro_keys:\\n    merged_df = pd.concat([merged_df, hydro_data[key]])\\n\\nmerged_df = merged_df.iloc[2: , :]\\nmerged_df = merged_df.iloc[:-10, :]\\nmerged_df.reset_index(inplace=True)\\n\\nhydro_data = merged_df\\nprint(hydro_data)\\n'"
      ]
     },
     "execution_count": 28,
     "metadata": {},
     "output_type": "execute_result"
    }
   ],
   "source": [
    "\"\"\"\n",
    "merged_df = pd.DataFrame()\n",
    "\n",
    "for key in hydro_keys:\n",
    "    merged_df = pd.concat([merged_df, hydro_data[key]])\n",
    "\n",
    "merged_df = merged_df.iloc[2: , :]\n",
    "merged_df = merged_df.iloc[:-10, :]\n",
    "merged_df.reset_index(inplace=True)\n",
    "\n",
    "hydro_data = merged_df\n",
    "print(hydro_data)\n",
    "\"\"\""
   ]
  },
  {
   "cell_type": "code",
   "execution_count": 29,
   "metadata": {},
   "outputs": [],
   "source": [
    "#extracted_col = hydro_data[\"Height\"]\n",
    "#climate_data = climate_data.join(extracted_col)\n",
    "\n",
    "final_data = climate_data"
   ]
  },
  {
   "cell_type": "code",
   "execution_count": 30,
   "metadata": {},
   "outputs": [
    {
     "name": "stdout",
     "output_type": "stream",
     "text": [
      "      Year  Month                  Name  Mean_temp  Rain_sum  Days_w_rain\n",
      "0     1951      1  KRAKÓW-OBSERWATORIUM       -0.5      29.8            6\n",
      "1     1951      2  KRAKÓW-OBSERWATORIUM        1.3      26.3            2\n",
      "2     1951      3  KRAKÓW-OBSERWATORIUM        2.5      38.8           10\n",
      "3     1951      4  KRAKÓW-OBSERWATORIUM        9.7      61.0           12\n",
      "4     1951      5  KRAKÓW-OBSERWATORIUM       13.3     132.9           19\n",
      "...    ...    ...                   ...        ...       ...          ...\n",
      "2479  2019      8               PUŁTUSK       19.4      57.1            7\n",
      "2480  2019      9               PUŁTUSK       13.8      55.3           12\n",
      "2481  2019     10               PUŁTUSK        9.7      18.3            7\n",
      "2482  2019     11               PUŁTUSK        5.4      20.3           12\n",
      "2483  2019     12               PUŁTUSK        2.4      40.7           11\n",
      "\n",
      "[2484 rows x 6 columns]\n"
     ]
    }
   ],
   "source": [
    "print(final_data)\n",
    "final_data.to_csv(r'tidy_data.csv', index=False)"
   ]
  }
 ],
 "metadata": {
  "interpreter": {
   "hash": "69ba97b6de4c4cceb637ad5abfcb85a29dbe1480b6b2600c1da4d58015243c0a"
  },
  "kernelspec": {
   "display_name": "Python 3.9.4 ('base')",
   "language": "python",
   "name": "python3"
  },
  "language_info": {
   "codemirror_mode": {
    "name": "ipython",
    "version": 3
   },
   "file_extension": ".py",
   "mimetype": "text/x-python",
   "name": "python",
   "nbconvert_exporter": "python",
   "pygments_lexer": "ipython3",
   "version": "3.9.4"
  },
  "orig_nbformat": 4
 },
 "nbformat": 4,
 "nbformat_minor": 2
}
